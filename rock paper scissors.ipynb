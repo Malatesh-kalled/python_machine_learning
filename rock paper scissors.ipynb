{
  "nbformat": 4,
  "nbformat_minor": 0,
  "metadata": {
    "colab": {
      "provenance": []
    },
    "kernelspec": {
      "name": "python3",
      "display_name": "Python 3"
    },
    "language_info": {
      "name": "python"
    }
  },
  "cells": [
    {
      "cell_type": "code",
      "execution_count": null,
      "metadata": {
        "colab": {
          "base_uri": "https://localhost:8080/"
        },
        "id": "tUT9j3gigu96",
        "outputId": "b5eb2e3c-cf89-4fb7-8f12-45cbf6545e09"
      },
      "outputs": [
        {
          "output_type": "stream",
          "name": "stdout",
          "text": [
            "enter either rock or paper or scissorspaper\n",
            "rock\n",
            "paper\n",
            "computer won\n"
          ]
        }
      ],
      "source": [
        "import random\n",
        "gamelist=['rock','paper','scissors']\n",
        "comp=random.choice(gamelist)\n",
        "user=input(\"enter either rock or paper or scissors\")\n",
        "print(comp)\n",
        "print(user)\n",
        "\n",
        "if(comp==\"rock\" and user==\"paper\"):\n",
        "  print(\"computer won\")\n",
        "elif(comp==\"paper\" and user==\"scissors\"):\n",
        "  print(\"you won\")\n",
        "elif(comp==\"scissors\" and user==\"paper\"):\n",
        "  print(\"computer won\")\n",
        "else:\n",
        "  print(\"tie\")\n",
        "\n"
      ]
    },
    {
      "cell_type": "code",
      "source": [],
      "metadata": {
        "id": "Xz3hTyJuiLXP"
      },
      "execution_count": null,
      "outputs": []
    }
  ]
}