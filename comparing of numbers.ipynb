{
  "nbformat": 4,
  "nbformat_minor": 0,
  "metadata": {
    "colab": {
      "provenance": []
    },
    "kernelspec": {
      "name": "python3",
      "display_name": "Python 3"
    },
    "language_info": {
      "name": "python"
    }
  },
  "cells": [
    {
      "cell_type": "code",
      "execution_count": 4,
      "metadata": {
        "colab": {
          "base_uri": "https://localhost:8080/"
        },
        "id": "J2Tc_Pjd_0X6",
        "outputId": "517ad1bd-4795-4fce-e3e0-8bb974484950"
      },
      "outputs": [
        {
          "output_type": "stream",
          "name": "stdout",
          "text": [
            "20 is greater than 5\n"
          ]
        }
      ],
      "source": [
        "num1 = 20\n",
        "num2 = 5\n",
        "\n",
        "if num1 > num2:\n",
        "    print(num1, \"is greater than\", num2)\n",
        "elif num1 < num2:\n",
        "    print(num1, \"is less than\", num2)\n",
        "else:\n",
        "    print(num1, \"is equal to\", num2)\n"
      ]
    },
    {
      "cell_type": "code",
      "source": [],
      "metadata": {
        "id": "P_D0yv8U_6it"
      },
      "execution_count": null,
      "outputs": []
    }
  ]
}