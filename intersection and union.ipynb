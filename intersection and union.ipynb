{
  "nbformat": 4,
  "nbformat_minor": 0,
  "metadata": {
    "colab": {
      "provenance": []
    },
    "kernelspec": {
      "name": "python3",
      "display_name": "Python 3"
    },
    "language_info": {
      "name": "python"
    }
  },
  "cells": [
    {
      "cell_type": "code",
      "execution_count": 1,
      "metadata": {
        "colab": {
          "base_uri": "https://localhost:8080/"
        },
        "id": "cfxxsWqiC2s4",
        "outputId": "566bf45d-5b8e-4d8c-c781-67203ff36357"
      },
      "outputs": [
        {
          "output_type": "stream",
          "name": "stdout",
          "text": [
            "Intersection: {3, 4, 5}\n",
            "Union: {1, 2, 3, 4, 5, 6, 7}\n"
          ]
        }
      ],
      "source": [
        "set1 = {1, 2, 3, 4, 5}\n",
        "set2 = {3, 4, 5, 6, 7}\n",
        "\n",
        "intersection_result = set1.intersection(set2)\n",
        "print(\"Intersection:\", intersection_result)\n",
        "\n",
        "union_result = set1.union(set2)\n",
        "print(\"Union:\", union_result)\n"
      ]
    },
    {
      "cell_type": "code",
      "source": [],
      "metadata": {
        "id": "GC2sdReADVpd"
      },
      "execution_count": null,
      "outputs": []
    }
  ]
}